{
 "cells": [
  {
   "cell_type": "markdown",
   "id": "6c59d6fe",
   "metadata": {},
   "source": [
    "<img src=\"https://www.usna.edu/WRC/_files/WRClogos/WRCE-logo-combined-01-crop.png\" width=\"200px\">\n",
    "\n",
    "# Variables and Simple Data Types (Chapter 2)"
   ]
  },
  {
   "cell_type": "code",
   "execution_count": null,
   "id": "99e2a800",
   "metadata": {},
   "outputs": [],
   "source": [
    "# Examples of variables in Python\n",
    "x=4\n",
    "student=\"Alice\"\n",
    "my_favorite_prime_number = 7\n",
    "\n",
    "\n",
    "# TODO declare three more variables below:\n"
   ]
  },
  {
   "cell_type": "markdown",
   "id": "9684e9b7",
   "metadata": {},
   "source": [
    "Rules for naming variables:\n",
    "\n",
    "* Can contain only letters, numbers, and underscores. May not start with a number\n",
    "* No spaces, use underscores instead\n",
    "* Avoid built-in functions and keywords like ``input``, ``print``, ``for``, ``else``, etc\n",
    "* Names should be short but descriptive. Avoid single letter names (easy to forget what they mean).\n"
   ]
  },
  {
   "cell_type": "code",
   "execution_count": null,
   "id": "749b2401",
   "metadata": {},
   "outputs": [],
   "source": [
    "# TODO create variables to hold a student's first and last names and current grade. Name them appropriately.\n",
    "\n"
   ]
  },
  {
   "cell_type": "markdown",
   "id": "2b75c79c",
   "metadata": {},
   "source": [
    "----\n",
    "### Strings"
   ]
  },
  {
   "cell_type": "code",
   "execution_count": null,
   "id": "8c086fde",
   "metadata": {},
   "outputs": [],
   "source": [
    "# strings are lists of characters enclosed by either \" or ' \n",
    "full_name = \"Alice Aardvark\"\n",
    "favorite_team = 'Antartic Antz'\n",
    "\n",
    "# use \" when you need a ' inside the string\n",
    "favorite_jam = \"Mom's Marmalade\"\n",
    "\n",
    "# several functions can be used to change the capitalization of a string\n",
    "print(favorite_jam.lower())\n",
    "\n",
    "print(favorite_jam.upper())\n",
    "\n",
    "student = 'tiny teddy'\n",
    "print(student.title())\n",
    "\n",
    "# TODO create three more strings and modify them using one of the capitalization functions"
   ]
  },
  {
   "cell_type": "markdown",
   "id": "2907d05a",
   "metadata": {},
   "source": [
    "Strings can be composed from variables. These are called *f-strings* or formatted strings"
   ]
  },
  {
   "cell_type": "code",
   "execution_count": null,
   "id": "591cc44b",
   "metadata": {},
   "outputs": [],
   "source": [
    "name = 'Alice'\n",
    "# greeting is an f-string that uses name\n",
    "greeting = f\"Hello, my name is f{name}\"\n",
    "\n",
    "friend = 'Bob'\n",
    "message = f\"Hello {friend}, my name is {name}\"\n",
    "\n",
    "# TODO compose a message to Bob telling him your favorite number\n",
    "favorite_number = 10\n"
   ]
  },
  {
   "cell_type": "markdown",
   "id": "52356374",
   "metadata": {},
   "source": [
    "**Adding Whitespace** Strings can contain whitespace like tabs and newlines. These non-printing characters are written by using ``\\`` followed by a special character."
   ]
  },
  {
   "cell_type": "code",
   "execution_count": null,
   "id": "c9678ab6",
   "metadata": {},
   "outputs": [],
   "source": [
    "multiline_message = \"This is line 1\\nThis is line 2\" # what if you add a space around the \\n?\n",
    "print(multiline_message)"
   ]
  },
  {
   "cell_type": "code",
   "execution_count": null,
   "id": "18e6d57b",
   "metadata": {},
   "outputs": [],
   "source": [
    "indented_message = \"Alice\\tAardvark\"\n",
    "print(indented_message)\n",
    "\n",
    "print(\"\\n\\n\") # two empty lines\n",
    "\n",
    "student_roster = \"Alice\\tAardvark\\nBill\\tBobcat\"\n",
    "print(student_roster)"
   ]
  },
  {
   "cell_type": "markdown",
   "id": "7cc111ed",
   "metadata": {},
   "source": [
    "**Stripping Whitespace** Whitespace can be removed from the beginning and/or end of a string using ``strip`` functions"
   ]
  },
  {
   "cell_type": "code",
   "execution_count": null,
   "id": "63bf2c7d",
   "metadata": {},
   "outputs": [],
   "source": [
    "favorite_class = '   ew200   '\n",
    "print(f\"I love {favorite_class}!\")\n",
    "\n",
    "print(f\"I love {favorite_class.lstrip()}!\") # remove leading whitespace\n",
    "print(f\"I love {favorite_class.rstrip()}!\") # remove trailing whitespace\n",
    "print(f\"I love {favorite_class.strip()}!\")  # remove both leading and trailing whitespace\n",
    "\n",
    "# create a string with leading and trailing white space including \\n and \\t characters\n",
    "# then print it using each of the strip functions\n"
   ]
  },
  {
   "cell_type": "markdown",
   "id": "3bde0361",
   "metadata": {},
   "source": [
    "---\n",
    "### Numbers"
   ]
  },
  {
   "cell_type": "code",
   "execution_count": null,
   "id": "19f49f23",
   "metadata": {},
   "outputs": [],
   "source": [
    "# Python supports basic math operations\n",
    "print(2+2)\n",
    "print(3-2)\n",
    "print(8*5)\n",
    "print(3/2)"
   ]
  },
  {
   "cell_type": "code",
   "execution_count": null,
   "id": "68eb09ff",
   "metadata": {},
   "outputs": [],
   "source": [
    "# Exponents use **\n",
    "print(3**2)"
   ]
  },
  {
   "cell_type": "markdown",
   "id": "60867a24",
   "metadata": {},
   "source": [
    "**WARNING!** Decimals are approximate- they may not give the exact answer, but this is not usually a problem"
   ]
  },
  {
   "cell_type": "code",
   "execution_count": null,
   "id": "715e8315",
   "metadata": {},
   "outputs": [],
   "source": [
    "print(0.2+0.1)"
   ]
  },
  {
   "cell_type": "markdown",
   "id": "92b0c923",
   "metadata": {},
   "source": [
    "------\n",
    "### Helpful Hints"
   ]
  },
  {
   "cell_type": "code",
   "execution_count": null,
   "id": "3c371ece",
   "metadata": {},
   "outputs": [],
   "source": [
    "# use _ to group digits in large numbers\n",
    "one_billion = 1_000_000_000\n",
    "print(one_billion)\n",
    "\n",
    "# multiple assignment can be used to initialize several variables at once\n",
    "a, b, c = 1, 2, 3\n",
    "print(c)\n",
    "\n",
    "# if a variable shouldn't change its value during your program use all capital letters\n",
    "GRAVITATIONAL_CONSTANT = 9.81\n",
    "print(GRAVITATIONAL_CONSTANT)\n",
    "\n",
    "# Use comments in your code to document your work, include citations, and make it easier to read\n",
    "print(\"Don't forget to use comments in your code!\")"
   ]
  },
  {
   "cell_type": "markdown",
   "id": "7a75c3e0",
   "metadata": {},
   "source": [
    "-----\n",
    "\n",
    "## Homework Problems"
   ]
  },
  {
   "cell_type": "markdown",
   "id": "1871e381",
   "metadata": {},
   "source": [
    "**2-1. Simple Message:** Assign a message to a variable and then print that message"
   ]
  },
  {
   "cell_type": "code",
   "execution_count": null,
   "id": "787319c4",
   "metadata": {},
   "outputs": [],
   "source": []
  },
  {
   "cell_type": "markdown",
   "id": "ad13aab4",
   "metadata": {},
   "source": [
    "**2-2 Simple Messages:** Assign a message to a variable and then print that message. Then change the value of the variable to a new message, and print the new message"
   ]
  },
  {
   "cell_type": "code",
   "execution_count": null,
   "id": "4c08cbf1",
   "metadata": {},
   "outputs": [],
   "source": []
  },
  {
   "cell_type": "markdown",
   "id": "d28e8cd9",
   "metadata": {},
   "source": [
    "**2-3. Personal Message:** Use a variable to represent a person's name, and print a message to that person. Your message should be simple, such as, \"Hello Eric, would you like to learn some Python today?\""
   ]
  },
  {
   "cell_type": "code",
   "execution_count": null,
   "id": "0c06ad08",
   "metadata": {},
   "outputs": [],
   "source": []
  },
  {
   "cell_type": "markdown",
   "id": "4da08c08",
   "metadata": {},
   "source": [
    "**2-4. Name Cases:** Use a variable to represent a person's name and then print that peron's name in lowercase, uppercase, and title case."
   ]
  },
  {
   "cell_type": "code",
   "execution_count": null,
   "id": "7f0a75e6",
   "metadata": {},
   "outputs": [],
   "source": []
  },
  {
   "cell_type": "markdown",
   "id": "8548e211",
   "metadata": {},
   "source": [
    "**2-5. Famous Quote:** Find a quote from a famous person you admire. Print the quote and the name of its author. Your output should look somethink like the following, including quotation marks:\n",
    "\n",
    "        Albert Einstein once said, \"A person who never made a mistake never tried anything new\""
   ]
  },
  {
   "cell_type": "code",
   "execution_count": null,
   "id": "8645f5fb",
   "metadata": {},
   "outputs": [],
   "source": []
  },
  {
   "cell_type": "markdown",
   "id": "95d50243",
   "metadata": {},
   "source": [
    "**2-6. Famous Quote 2:** Repeat Exercise 2-5, but this time, represent the famous person's name using a variable called ``famous_person``. Then compose your message and represent it with a new variable called ``message``. Print your message"
   ]
  },
  {
   "cell_type": "code",
   "execution_count": null,
   "id": "0a129577",
   "metadata": {},
   "outputs": [],
   "source": []
  },
  {
   "cell_type": "markdown",
   "id": "f321b36e",
   "metadata": {},
   "source": [
    "**2-7. Stripping Names:** Use a variable to represent a person's name, and include some whitespace characters at the beginning and end of the name. Make sure you use each character combination, \"\\t\" and \"\\n\", at least once. \n",
    "Print the name using each of the three stripping functions, ``lstrip()``, ``rstrip()``, and ``strip()``."
   ]
  },
  {
   "cell_type": "code",
   "execution_count": null,
   "id": "891f5833",
   "metadata": {},
   "outputs": [],
   "source": []
  },
  {
   "cell_type": "markdown",
   "id": "5a8db0f5",
   "metadata": {},
   "source": [
    "**2-8. Number Eight:** Write addition, subtraction, multiplication, and division operations that each result in the number 8. Be sure to enclose your operations in ``print()`` calls to see the results. You should create four lines that look like this:\n",
    "\n",
    "        print(5+3)\n",
    "Your output should simply be four lines with the number 8 appearing once on each line."
   ]
  },
  {
   "cell_type": "code",
   "execution_count": null,
   "id": "3653af10",
   "metadata": {},
   "outputs": [],
   "source": []
  },
  {
   "cell_type": "markdown",
   "id": "ce0c86b6",
   "metadata": {},
   "source": [
    "**2-9. Favorite Number:** Use a variable to represent your favorite number. Then, using that variable, create a message that reveals your favorite number. Print that message."
   ]
  },
  {
   "cell_type": "code",
   "execution_count": null,
   "id": "57d90a72",
   "metadata": {},
   "outputs": [],
   "source": []
  },
  {
   "cell_type": "markdown",
   "id": "c58a3ca1",
   "metadata": {},
   "source": [
    "**2-10. Adding Comments:** Choose two of the previous problems and at at least one comment to each.\n",
    "\n",
    "**2-11. Zen of Python:** Enter ``import this`` and skim through the additional principles."
   ]
  },
  {
   "cell_type": "code",
   "execution_count": null,
   "id": "88f7ba8a",
   "metadata": {},
   "outputs": [],
   "source": []
  }
 ],
 "metadata": {
  "kernelspec": {
   "display_name": "Python 3 (ipykernel)",
   "language": "python",
   "name": "python3"
  },
  "language_info": {
   "codemirror_mode": {
    "name": "ipython",
    "version": 3
   },
   "file_extension": ".py",
   "mimetype": "text/x-python",
   "name": "python",
   "nbconvert_exporter": "python",
   "pygments_lexer": "ipython3",
   "version": "3.7.9"
  }
 },
 "nbformat": 4,
 "nbformat_minor": 5
}
